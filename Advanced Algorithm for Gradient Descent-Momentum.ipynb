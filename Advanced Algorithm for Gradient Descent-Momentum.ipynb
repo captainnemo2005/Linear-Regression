{
 "cells": [
  {
   "cell_type": "code",
   "execution_count": null,
   "metadata": {},
   "outputs": [],
   "source": [
    "#Momentum : Its is an algorithm that is develop to \n",
    "#solve the problem that GD will be easily meet that is\n",
    "#local mininum\n",
    "def has_converged(theta_new, grad):\n",
    "    return np.linalg.norm(grad(theta_new))/len(theta_new) < 1e-3\n",
    "def GD_momentum(theta_init, grad, eta, gamma):\n",
    "    #Store the historical value of theta\n",
    "    theta = [theta_init]\n",
    "    #assume that the initial value of v is 0\n",
    "    v_old = np.zeros_like(theta_init)\n",
    "    for i in range(100):\n",
    "        v_new = v_old*gamma + eta*grad(theta[-1]))\n",
    "        theta_new = theta[=1] - v_new\n",
    "        if has_converged(theta_new, grad):\n",
    "            break\n",
    "        v_old = v_new\n",
    "        theta.append(theta_new)\n",
    "    return theta\n",
    "\n",
    "\n",
    "#another disadvantage that has been discovered after\n",
    "#we use the GD with momentum is that it took to long \n",
    "#before reaching the convergence point. So to solve this\n",
    "#we the have to use a new algorithm that help to reduce the\n",
    "#iterations that called : "
   ]
  }
 ],
 "metadata": {
  "kernelspec": {
   "display_name": "Python 3",
   "language": "python",
   "name": "python3"
  },
  "language_info": {
   "codemirror_mode": {
    "name": "ipython",
    "version": 3
   },
   "file_extension": ".py",
   "mimetype": "text/x-python",
   "name": "python",
   "nbconvert_exporter": "python",
   "pygments_lexer": "ipython3",
   "version": "3.6.4"
  }
 },
 "nbformat": 4,
 "nbformat_minor": 2
}
