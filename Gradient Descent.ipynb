{
 "cells": [
  {
   "cell_type": "code",
   "execution_count": 8,
   "metadata": {},
   "outputs": [
    {
     "name": "stdout",
     "output_type": "stream",
     "text": [
      "Solution x1 = -1.110667 , cost = -3.246394 , obtaind after 11 iterations \n",
      "Solution x1 = -1.110341 , cost = -3.246394 , obtaind after 29 iterations \n"
     ]
    }
   ],
   "source": [
    "#this will be a small project about how to\n",
    "#manipulate a gradient descent for this function\n",
    "#f(x) = x**2 + 5*sin(x)\n",
    "#This function is not easy to find it f'(x) = 0\n",
    "# so we will start from x0 with t loop\n",
    "# x(t+1) = x(t) - n*(2x(t)+5*cos(x))\n",
    "#Step 1: Import our dependencies\n",
    "import numpy as np\n",
    "import matplotlib.pyplot as plt\n",
    "import math\n",
    "from __future__ import division, print_function, unicode_literals\n",
    "\n",
    "#this function will return the derivation of the function\n",
    "def grad(x):\n",
    "    return (2*x + 5*np.cos(x))\n",
    "\n",
    "#this function will calculate the cost \n",
    "def cost(x):\n",
    "    return (x**2 + 5*np.sin(x))\n",
    "\n",
    "#this function will do our gradient descent with a\n",
    "#given learning rate as well as a starting point\n",
    "#and stop when our derivation get small enough\n",
    "#in here i assume 1e-3 is small enough\n",
    "def myGD(learning_rate, x0):\n",
    "    x = [x0]\n",
    "    for it in range(100):\n",
    "        x_new = x[-1] - learning_rate*grad(x[-1])\n",
    "        if abs(grad(x_new)) < 1e-3:\n",
    "            break\n",
    "        x.append(x_new) # append x to the array\n",
    "    return (x, it)\n",
    "\n",
    "\n",
    "#now we starting to define our testing\n",
    "(x1,it1) = myGD(.1, -5)\n",
    "print(\"Solution x1 = %f , cost = %f , obtaind after %d iterations \" %(x1[-1] ,cost(x1[-1]) , it1 ))\n",
    "(x2,it2) = myGD(.1, 5)\n",
    "print(\"Solution x1 = %f , cost = %f , obtaind after %d iterations \" %(x2[-1] ,cost(x2[-1]) , it2 ))"
   ]
  },
  {
   "cell_type": "code",
   "execution_count": null,
   "metadata": {},
   "outputs": [],
   "source": []
  }
 ],
 "metadata": {
  "kernelspec": {
   "display_name": "Python 3",
   "language": "python",
   "name": "python3"
  },
  "language_info": {
   "codemirror_mode": {
    "name": "ipython",
    "version": 3
   },
   "file_extension": ".py",
   "mimetype": "text/x-python",
   "name": "python",
   "nbconvert_exporter": "python",
   "pygments_lexer": "ipython3",
   "version": "3.6.4"
  }
 },
 "nbformat": 4,
 "nbformat_minor": 2
}
