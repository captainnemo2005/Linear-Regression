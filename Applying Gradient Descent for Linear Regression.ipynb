{
 "cells": [
  {
   "cell_type": "code",
   "execution_count": 3,
   "metadata": {},
   "outputs": [],
   "source": [
    "#Step 1: Importing all of our dependencies\n",
    "from __future__ import division , print_function, unicode_literals\n",
    "import numpy as np\n",
    "import math\n",
    "import matplotlib.pyplot as plt\n",
    "\n",
    "#Step 2: create our own ramdon data\n",
    "\n",
    "#it will give back the same sequence of number\n",
    "#everytime we run the code random seen we\n",
    "#declared the seed \n",
    "np.random.seed(2) \n",
    "\n",
    "#it will likely give you a random vector 1000 rows\n",
    "#with 1 column ==> they will be the same everytime\n",
    "#we run the code since we declared the random.seed()\n",
    "X = np.random.rand(1000,1)\n",
    "#the function y = 4 + 3x with noise added is\n",
    "#.2*np.random.randn(1000,1)\n",
    "y = 4 + 3*X+.2*np.random.randn(1000,1) \n",
    "\n"
   ]
  },
  {
   "cell_type": "code",
   "execution_count": 23,
   "metadata": {},
   "outputs": [
    {
     "name": "stdout",
     "output_type": "stream",
     "text": [
      "The solution i found is w =  [[4.0071715  2.98225924]]\n"
     ]
    }
   ],
   "source": [
    "# Step 3:Creating Xbar \n",
    "ones = np.ones((X.shape[0], 1))\n",
    "Xbar = np.concatenate((ones, X), axis = 1)\n",
    "\n",
    "#Step 4: we are going to apply the formular to \n",
    "#calculate our weight to derive our fitting line\n",
    "# y0 = w_0 + w_1*0\n",
    "\n",
    "A = np.dot(Xbar.T, Xbar) #A is the dot product of Xbar and Xbar transpose\n",
    "b = np.dot(Xbar.T, y)\n",
    "w_1r = np.dot(np.linalg.pinv(A),b)\n",
    "\n",
    "print(\"The solution i found is w = \", w_1r.T)\n",
    "\n",
    "#Step 5: Computing our solution\n",
    "\n",
    "w = w_1r\n",
    "w_0 = w[0][0]\n",
    "w_1 = w[1][0]\n",
    "#take 2 point in the range [0,1]\n",
    "# which is equaly seperate and take the endpoints\n",
    "x0 = np.linspace(0,1,2,endpoint = True)\n",
    "y0 = x0*w_1 + w_0"
   ]
  },
  {
   "cell_type": "code",
   "execution_count": 24,
   "metadata": {},
   "outputs": [
    {
     "data": {
      "image/png": "[encoded data removed]",
      "text/plain": [
       "<matplotlib.figure.Figure at 0x1fd70db2860>"
      ]
     },
     "metadata": {},
     "output_type": "display_data"
    }
   ],
   "source": [
    "#Step 6: Drawing our result:\n",
    "plt.plot(X.T, y.T, 'b.') #our data\n",
    "plt.plot(x0,y0,'y', linewidth = 2) #our fitting line\n",
    "plt.axis([0,1,0,10]) #Declaring our axis x = [0,1] ,y = [0,10]\n",
    "plt.show()"
   ]
  },
  {
   "cell_type": "code",
   "execution_count": 36,
   "metadata": {},
   "outputs": [],
   "source": [
    "#Step 7: Applying formular for gradient descent \n",
    "#and lost function\n",
    "def grad(w):\n",
    "    #This is the length of the sequence\n",
    "    N = Xbar.shape[0]\n",
    "    return ((1/N)*Xbar.T.dot(Xbar.dot(w) - y))\n",
    "\n",
    "def cost(w):\n",
    "    #This is the length of the sequence\n",
    "    N = Xbar.shape[0]\n",
    "    return .5/N*np.linalg.norm(y - Xbar.dot(w), 2)**2;\n"
   ]
  },
  {
   "cell_type": "code",
   "execution_count": 50,
   "metadata": {},
   "outputs": [
    {
     "name": "stdout",
     "output_type": "stream",
     "text": [
      "[[-4.55420566]\n",
      " [-2.42646427]]\n",
      "[[-4.55420566]\n",
      " [-2.42646427]]\n",
      "Checking gradient.... True\n"
     ]
    }
   ],
   "source": [
    "#Now we can add a small function to quarantee that \n",
    "#our gradient descent is close to be correct\n",
    "def numerical_grad(w,cost):\n",
    "    eps =1e-4\n",
    "    g = np.zeros_like(w) #Matrix g will be same size with w but full of 0\n",
    "    for i in range(len(w)):\n",
    "        w_p = w.copy()\n",
    "        w_n = w.copy()\n",
    "        w_p[i] += eps\n",
    "        w_n[i] -= eps\n",
    "        g[i] = (cost(w_p) - cost(w_n))/(2*eps)\n",
    "    return g\n",
    "\n",
    "def check_grad(w,cost,grad):\n",
    "    w = np.random.rand(w.shape[0],w.shape[1])\n",
    "    grad1 = grad(w) #Check the W with our gradient\n",
    "    grad2 = numerical_grad(w,cost) #Check with the numerical gradient\n",
    "    print(grad1)\n",
    "    print(grad2)\n",
    "    #comparison\n",
    "    return True if np.linalg.norm(grad1 - grad2) < 1e-6 else False \n",
    "\n",
    "\n",
    "print(\"Checking gradient....\" , check_grad(np.random.rand(2,1), cost, grad))"
   ]
  },
  {
   "cell_type": "code",
   "execution_count": null,
   "metadata": {},
   "outputs": [],
   "source": []
  }
 ],
 "metadata": {
  "kernelspec": {
   "display_name": "Python 3",
   "language": "python",
   "name": "python3"
  },
  "language_info": {
   "codemirror_mode": {
    "name": "ipython",
    "version": 3
   },
   "file_extension": ".py",
   "mimetype": "text/x-python",
   "name": "python",
   "nbconvert_exporter": "python",
   "pygments_lexer": "ipython3",
   "version": "3.6.4"
  }
 },
 "nbformat": 4,
 "nbformat_minor": 2
}
